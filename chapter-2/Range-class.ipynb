{
 "cells": [
  {
   "cell_type": "code",
   "execution_count": 60,
   "metadata": {},
   "outputs": [
    {
     "name": "stdout",
     "output_type": "stream",
     "text": [
      "4\n",
      "3\n",
      "8\n"
     ]
    }
   ],
   "source": [
    "class Range:\n",
    "    \"\"\"A multi dimentional vector\"\"\"\n",
    "\n",
    "    def __init__(self, start, stop=None, step=1):\n",
    "\n",
    "        if step == 0:\n",
    "            raise ValueError('step cannot be 0')\n",
    "        if stop is None:\n",
    "            start, stop = 0, start\n",
    "        \n",
    "        self._start = start\n",
    "        self._stop = stop\n",
    "        self._step = step\n",
    "        \n",
    "        self._length = max(0,(stop - start + step - 1) // step)\n",
    "\n",
    "    def __len__(self):\n",
    "        return self._length\n",
    "\n",
    "    def __getitem__(self,item):\n",
    "        if item > len(self):\n",
    "            raise IndexError('item is out of range')\n",
    "        else:\n",
    "            return self._start + (self._step * item)    \n",
    "\n",
    "\n",
    "\n",
    "\n",
    "if __name__ == '__main__':\n",
    "\n",
    "    x = Range(10,5,-2)\n",
    "    print(len(x))\n",
    "    print(len(range(10,5,-2)))\n",
    "    print(x[1])\n"
   ]
  }
 ],
 "metadata": {
  "kernelspec": {
   "display_name": "Python 3",
   "language": "python",
   "name": "python3"
  },
  "language_info": {
   "codemirror_mode": {
    "name": "ipython",
    "version": 3
   },
   "file_extension": ".py",
   "mimetype": "text/x-python",
   "name": "python",
   "nbconvert_exporter": "python",
   "pygments_lexer": "ipython3",
   "version": "3.10.10"
  },
  "orig_nbformat": 4
 },
 "nbformat": 4,
 "nbformat_minor": 2
}
