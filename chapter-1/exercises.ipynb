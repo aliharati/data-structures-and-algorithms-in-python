{
 "cells": [
  {
   "cell_type": "code",
   "execution_count": 30,
   "metadata": {},
   "outputs": [
    {
     "name": "stdout",
     "output_type": "stream",
     "text": [
      "False\n",
      "True\n",
      "True\n",
      "False\n"
     ]
    }
   ],
   "source": [
    "# R-1.1 Write a short Python function, is_multiple(n, m), that takes two integer values \n",
    "# and returns True if n is a multiple of m, that is, n = mi for some\n",
    "# integer i, and False otherwise.\n",
    "\n",
    "def is_multiple(n, m):\n",
    "    return n % m == 0\n",
    "\n",
    "print(is_multiple(3, 2))\n",
    "print(is_multiple(4, 2))\n",
    "print(is_multiple(20, 2))\n",
    "print(is_multiple(21, 2))"
   ]
  },
  {
   "cell_type": "code",
   "execution_count": 31,
   "metadata": {},
   "outputs": [
    {
     "name": "stdout",
     "output_type": "stream",
     "text": [
      "True\n",
      "True\n",
      "False\n",
      "False\n"
     ]
    }
   ],
   "source": [
    "# R-1.2 Write a short Python function, is_even(k), that takes an integer value and\n",
    "# returns True if k is even, and False otherwise. However, your function\n",
    "# cannot use the multiplication, modulo, or division operators.\n",
    "\n",
    "def is_even(k):\n",
    "    num = 0\n",
    "    for i in range(0, k + 1, 2):\n",
    "        num = i\n",
    "    return num == k\n",
    "\n",
    "print(is_even(2))\n",
    "print(is_even(4))\n",
    "print(is_even(5))\n",
    "print(is_even(7))\n"
   ]
  },
  {
   "cell_type": "code",
   "execution_count": 32,
   "metadata": {},
   "outputs": [
    {
     "name": "stdout",
     "output_type": "stream",
     "text": [
      "(0, 0)\n",
      "(-10, 50)\n"
     ]
    }
   ],
   "source": [
    "# R-1.3 Write a short Python function, minmax(data), that takes a sequence of\n",
    "# one or more numbers, and returns the smallest and largest numbers, in the\n",
    "# form of a tuple of length two. Do not use the built-in functions min or\n",
    "# max in implementing your solution.\n",
    "\n",
    "def minmax(data):\n",
    "    maximum = data[0]\n",
    "    minimum = data[0]\n",
    "    for num in data:\n",
    "        if num > maximum:\n",
    "            maximum = num\n",
    "        if num < minimum:\n",
    "            minimum = num\n",
    "    return (minimum, maximum)\n",
    "\n",
    "print(minmax([0]))\n",
    "print(minmax([0,1,2,3,4,5,6,7,-10,50]))"
   ]
  },
  {
   "cell_type": "code",
   "execution_count": 33,
   "metadata": {},
   "outputs": [
    {
     "name": "stdout",
     "output_type": "stream",
     "text": [
      "0\n",
      "1\n",
      "30\n"
     ]
    }
   ],
   "source": [
    "# R-1.4 Write a short Python function that takes a positive integer n and returns\n",
    "# the sum of the squares of all the positive integers smaller than n.\n",
    "\n",
    "def square_sums(n):\n",
    "    total = 0\n",
    "    for i in range(n):\n",
    "        total += i ** 2\n",
    "    return total\n",
    "\n",
    "\n",
    "\n",
    "print(square_sums(1))\n",
    "print(square_sums(2))\n",
    "print(square_sums(5))\n"
   ]
  },
  {
   "cell_type": "code",
   "execution_count": 34,
   "metadata": {},
   "outputs": [
    {
     "name": "stdout",
     "output_type": "stream",
     "text": [
      "0\n",
      "1\n",
      "30\n"
     ]
    }
   ],
   "source": [
    "# R-1.5 Give a single command that computes the sum from Exercise R-1.4, relying\n",
    "# on Python’s comprehension syntax and the built-in sum function.\n",
    "\n",
    "def square_sums2(n):\n",
    "    return sum([i ** 2 for i in range(n)])\n",
    "\n",
    "print(square_sums2(1))\n",
    "print(square_sums2(2))\n",
    "print(square_sums2(5))"
   ]
  },
  {
   "cell_type": "code",
   "execution_count": 35,
   "metadata": {},
   "outputs": [
    {
     "name": "stdout",
     "output_type": "stream",
     "text": [
      "10\n",
      "35\n",
      "35\n"
     ]
    }
   ],
   "source": [
    "# R-1.6 Write a short Python function that takes a positive integer n and returns\n",
    "# the sum of the squares of all the odd positive integers smaller than n.\n",
    "\n",
    "def square_odd_sum(n):\n",
    "    total = 0\n",
    "    for i in range(n):\n",
    "        if i % 2 !=0:\n",
    "            total += i ** 2\n",
    "    return total\n",
    "\n",
    "print(square_odd_sum(5))\n",
    "print(square_odd_sum(6))\n",
    "print(square_odd_sum(7))"
   ]
  },
  {
   "cell_type": "code",
   "execution_count": 37,
   "metadata": {},
   "outputs": [
    {
     "name": "stdout",
     "output_type": "stream",
     "text": [
      "10\n",
      "35\n",
      "35\n"
     ]
    }
   ],
   "source": [
    "# R-1.7 Give a single command that computes the sum from Exercise R-1.6, relying\n",
    "# on Python’s comprehension syntax and the built-in sum function.\n",
    "\n",
    "def square_odd_sum2(n):\n",
    "    return sum([x ** 2 for x in range(n) if x % 2 != 0])\n",
    "\n",
    "print(square_odd_sum2(5))\n",
    "print(square_odd_sum2(6))\n",
    "print(square_odd_sum2(7))"
   ]
  },
  {
   "cell_type": "code",
   "execution_count": 39,
   "metadata": {},
   "outputs": [
    {
     "name": "stdout",
     "output_type": "stream",
     "text": [
      "5\n",
      "2\n"
     ]
    }
   ],
   "source": [
    "# R-1.8 Python allows negative integers to be used as indices into a sequence,\n",
    "# such as a string. If string s has length n, and expression s[k] is used for index\n",
    "# −n≤k<0, what is the equivalent index j ≥0 such that s[j] references\n",
    "# the same element?\n",
    "\n",
    "def find_index(s, k):\n",
    "    return len(s) + k\n",
    "\n",
    "(print(find_index('string', -1)))\n",
    "(print(find_index('string', -4)))\n",
    "\n"
   ]
  },
  {
   "cell_type": "code",
   "execution_count": 47,
   "metadata": {},
   "outputs": [
    {
     "name": "stdout",
     "output_type": "stream",
     "text": [
      "[50, 60, 70, 80]\n",
      "range is (50,81,10)\n",
      "range is (50,19,-10)\n",
      "range is (8,-9,-2)\n"
     ]
    }
   ],
   "source": [
    "# R-1.9 What parameters should be sent to the range constructor, to produce a\n",
    "# range with values 50, 60, 70, 80?\n",
    "\n",
    "print([i for i in range(50,81,10)])\n",
    "\n",
    "def find_range(num_list):\n",
    " if num_list[0] < num_list[1]:\n",
    "    return \"range is ({},{},{})\".format(num_list[0], num_list[-1] + 1 , num_list[1] - num_list[0])\n",
    " else:\n",
    "    return \"range is ({},{},{})\".format(num_list[0], num_list[-1] - 1 , num_list[1] - num_list[0])\n",
    "\n",
    "print(find_range([50,60,70,80]))\n",
    "print(find_range([50,40,30,20]))\n",
    "print(find_range([8, 6, 4, 2, 0, -2, -4, -6, -8]))\n",
    "\n"
   ]
  },
  {
   "cell_type": "code",
   "execution_count": null,
   "metadata": {},
   "outputs": [],
   "source": [
    "# R-1.10 What parameters should be sent to the range constructor, to produce a\n",
    "# range with values 8, 6, 4, 2, 0, −2, −4, −6, −8?\n",
    "\n",
    "print('answer is: (8,-9,-2)')"
   ]
  },
  {
   "cell_type": "code",
   "execution_count": 50,
   "metadata": {},
   "outputs": [
    {
     "name": "stdout",
     "output_type": "stream",
     "text": [
      "[1, 2, 4, 8, 16, 32, 64, 128, 256]\n"
     ]
    }
   ],
   "source": [
    "# Demonstrate how to use Python’s list comprehension syntax to produce\n",
    "# the list [1, 2, 4, 8, 16, 32, 64, 128, 256].\n",
    "\n",
    "print([2 ** x for x in range(9)])\n"
   ]
  },
  {
   "cell_type": "code",
   "execution_count": null,
   "metadata": {},
   "outputs": [],
   "source": [
    "# R-1.12 Python’s random module includes a function choice(data) that returns a\n",
    "# random element from a non-empty sequence. The random module includes\n",
    "# a more basic function randrange, with parameterization similar to\n",
    "# the built-in range function, that return a random choice from the given\n",
    "# range. Using only the randrange function, implement your own version\n",
    "# of the choice function.\n"
   ]
  }
 ],
 "metadata": {
  "kernelspec": {
   "display_name": "Python 3",
   "language": "python",
   "name": "python3"
  },
  "language_info": {
   "codemirror_mode": {
    "name": "ipython",
    "version": 3
   },
   "file_extension": ".py",
   "mimetype": "text/x-python",
   "name": "python",
   "nbconvert_exporter": "python",
   "pygments_lexer": "ipython3",
   "version": "3.10.10"
  },
  "orig_nbformat": 4,
  "vscode": {
   "interpreter": {
    "hash": "ca6cb3cecea1db0abf010095da60233a3a7819125650c47cfde9ad819895907e"
   }
  }
 },
 "nbformat": 4,
 "nbformat_minor": 2
}
