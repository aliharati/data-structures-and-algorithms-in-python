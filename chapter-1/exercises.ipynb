{
 "cells": [
  {
   "cell_type": "code",
   "execution_count": 75,
   "metadata": {},
   "outputs": [
    {
     "name": "stdout",
     "output_type": "stream",
     "text": [
      "False\n",
      "True\n",
      "True\n",
      "False\n"
     ]
    }
   ],
   "source": [
    "# R-1.1 Write a short Python function, is_multiple(n, m), that takes two integer values \n",
    "# and returns True if n is a multiple of m, that is, n = mi for some\n",
    "# integer i, and False otherwise.\n",
    "\n",
    "def is_multiple(n, m):\n",
    "    return n % m == 0\n",
    "\n",
    "print(is_multiple(3, 2))\n",
    "print(is_multiple(4, 2))\n",
    "print(is_multiple(20, 2))\n",
    "print(is_multiple(21, 2))"
   ]
  },
  {
   "cell_type": "code",
   "execution_count": 76,
   "metadata": {},
   "outputs": [
    {
     "name": "stdout",
     "output_type": "stream",
     "text": [
      "True\n",
      "True\n",
      "False\n",
      "False\n"
     ]
    }
   ],
   "source": [
    "# R-1.2 Write a short Python function, is_even(k), that takes an integer value and\n",
    "# returns True if k is even, and False otherwise. However, your function\n",
    "# cannot use the multiplication, modulo, or division operators.\n",
    "\n",
    "def is_even(k):\n",
    "    num = 0\n",
    "    for i in range(0, k + 1, 2):\n",
    "        num = i\n",
    "    return num == k\n",
    "\n",
    "print(is_even(2))\n",
    "print(is_even(4))\n",
    "print(is_even(5))\n",
    "print(is_even(7))\n"
   ]
  },
  {
   "cell_type": "code",
   "execution_count": 77,
   "metadata": {},
   "outputs": [
    {
     "name": "stdout",
     "output_type": "stream",
     "text": [
      "(0, 0)\n",
      "(-10, 50)\n"
     ]
    }
   ],
   "source": [
    "# R-1.3 Write a short Python function, minmax(data), that takes a sequence of\n",
    "# one or more numbers, and returns the smallest and largest numbers, in the\n",
    "# form of a tuple of length two. Do not use the built-in functions min or\n",
    "# max in implementing your solution.\n",
    "\n",
    "def minmax(data):\n",
    "    maximum = data[0]\n",
    "    minimum = data[0]\n",
    "    for num in data:\n",
    "        if num > maximum:\n",
    "            maximum = num\n",
    "        if num < minimum:\n",
    "            minimum = num\n",
    "    return (minimum, maximum)\n",
    "\n",
    "print(minmax([0]))\n",
    "print(minmax([0,1,2,3,4,5,6,7,-10,50]))"
   ]
  },
  {
   "cell_type": "code",
   "execution_count": 78,
   "metadata": {},
   "outputs": [
    {
     "name": "stdout",
     "output_type": "stream",
     "text": [
      "0\n",
      "1\n",
      "30\n"
     ]
    }
   ],
   "source": [
    "# R-1.4 Write a short Python function that takes a positive integer n and returns\n",
    "# the sum of the squares of all the positive integers smaller than n.\n",
    "\n",
    "def square_sums(n):\n",
    "    total = 0\n",
    "    for i in range(n):\n",
    "        total += i ** 2\n",
    "    return total\n",
    "\n",
    "\n",
    "\n",
    "print(square_sums(1))\n",
    "print(square_sums(2))\n",
    "print(square_sums(5))\n"
   ]
  },
  {
   "cell_type": "code",
   "execution_count": 79,
   "metadata": {},
   "outputs": [
    {
     "name": "stdout",
     "output_type": "stream",
     "text": [
      "0\n",
      "1\n",
      "30\n"
     ]
    }
   ],
   "source": [
    "# R-1.5 Give a single command that computes the sum from Exercise R-1.4, relying\n",
    "# on Python’s comprehension syntax and the built-in sum function.\n",
    "\n",
    "def square_sums2(n):\n",
    "    return sum([i ** 2 for i in range(n)])\n",
    "\n",
    "print(square_sums2(1))\n",
    "print(square_sums2(2))\n",
    "print(square_sums2(5))"
   ]
  },
  {
   "cell_type": "code",
   "execution_count": 80,
   "metadata": {},
   "outputs": [
    {
     "name": "stdout",
     "output_type": "stream",
     "text": [
      "10\n",
      "35\n",
      "35\n"
     ]
    }
   ],
   "source": [
    "# R-1.6 Write a short Python function that takes a positive integer n and returns\n",
    "# the sum of the squares of all the odd positive integers smaller than n.\n",
    "\n",
    "def square_odd_sum(n):\n",
    "    total = 0\n",
    "    for i in range(n):\n",
    "        if i % 2 !=0:\n",
    "            total += i ** 2\n",
    "    return total\n",
    "\n",
    "print(square_odd_sum(5))\n",
    "print(square_odd_sum(6))\n",
    "print(square_odd_sum(7))"
   ]
  },
  {
   "cell_type": "code",
   "execution_count": 81,
   "metadata": {},
   "outputs": [
    {
     "name": "stdout",
     "output_type": "stream",
     "text": [
      "10\n",
      "35\n",
      "35\n"
     ]
    }
   ],
   "source": [
    "# R-1.7 Give a single command that computes the sum from Exercise R-1.6, relying\n",
    "# on Python’s comprehension syntax and the built-in sum function.\n",
    "\n",
    "def square_odd_sum2(n):\n",
    "    return sum([x ** 2 for x in range(n) if x % 2 != 0])\n",
    "\n",
    "print(square_odd_sum2(5))\n",
    "print(square_odd_sum2(6))\n",
    "print(square_odd_sum2(7))"
   ]
  },
  {
   "cell_type": "code",
   "execution_count": 82,
   "metadata": {},
   "outputs": [
    {
     "name": "stdout",
     "output_type": "stream",
     "text": [
      "5\n",
      "2\n"
     ]
    }
   ],
   "source": [
    "# R-1.8 Python allows negative integers to be used as indices into a sequence,\n",
    "# such as a string. If string s has length n, and expression s[k] is used for index\n",
    "# −n≤k<0, what is the equivalent index j ≥0 such that s[j] references\n",
    "# the same element?\n",
    "\n",
    "def find_index(s, k):\n",
    "    return len(s) + k\n",
    "\n",
    "(print(find_index('string', -1)))\n",
    "(print(find_index('string', -4)))\n",
    "\n"
   ]
  },
  {
   "cell_type": "code",
   "execution_count": 83,
   "metadata": {},
   "outputs": [
    {
     "name": "stdout",
     "output_type": "stream",
     "text": [
      "[50, 60, 70, 80]\n",
      "range is (50,81,10)\n",
      "range is (50,19,-10)\n",
      "range is (8,-9,-2)\n"
     ]
    }
   ],
   "source": [
    "# R-1.9 What parameters should be sent to the range constructor, to produce a\n",
    "# range with values 50, 60, 70, 80?\n",
    "\n",
    "print([i for i in range(50,81,10)])\n",
    "\n",
    "def find_range(num_list):\n",
    " if num_list[0] < num_list[1]:\n",
    "    return \"range is ({},{},{})\".format(num_list[0], num_list[-1] + 1 , num_list[1] - num_list[0])\n",
    " else:\n",
    "    return \"range is ({},{},{})\".format(num_list[0], num_list[-1] - 1 , num_list[1] - num_list[0])\n",
    "\n",
    "print(find_range([50,60,70,80]))\n",
    "print(find_range([50,40,30,20]))\n",
    "print(find_range([8, 6, 4, 2, 0, -2, -4, -6, -8]))\n",
    "\n"
   ]
  },
  {
   "cell_type": "code",
   "execution_count": 84,
   "metadata": {},
   "outputs": [
    {
     "name": "stdout",
     "output_type": "stream",
     "text": [
      "answer is: (8,-9,-2)\n"
     ]
    }
   ],
   "source": [
    "# R-1.10 What parameters should be sent to the range constructor, to produce a\n",
    "# range with values 8, 6, 4, 2, 0, −2, −4, −6, −8?\n",
    "\n",
    "print('answer is: (8,-9,-2)')"
   ]
  },
  {
   "cell_type": "code",
   "execution_count": 85,
   "metadata": {},
   "outputs": [
    {
     "name": "stdout",
     "output_type": "stream",
     "text": [
      "[1, 2, 4, 8, 16, 32, 64, 128, 256]\n"
     ]
    }
   ],
   "source": [
    "# Demonstrate how to use Python’s list comprehension syntax to produce\n",
    "# the list [1, 2, 4, 8, 16, 32, 64, 128, 256].\n",
    "\n",
    "print([2 ** x for x in range(9)])\n"
   ]
  },
  {
   "cell_type": "code",
   "execution_count": 86,
   "metadata": {},
   "outputs": [
    {
     "name": "stdout",
     "output_type": "stream",
     "text": [
      "2\n",
      "2\n",
      "128\n"
     ]
    }
   ],
   "source": [
    "# R-1.12 Python’s random module includes a function choice(data) that returns a\n",
    "# random element from a non-empty sequence. The random module includes\n",
    "# a more basic function randrange, with parameterization similar to\n",
    "# the built-in range function, that return a random choice from the given\n",
    "# range. Using only the randrange function, implement your own version\n",
    "# of the choice function.\n",
    "\n",
    "from random import randrange\n",
    "\n",
    "def give_random(data):\n",
    "    return data[randrange(len(data))]\n",
    "\n",
    "print(give_random([1, 2, 4, 8, 16, 32, 64, 128, 256]))\n",
    "print(give_random([1, 2, 4, 8, 16, 32, 64, 128, 256]))\n",
    "print(give_random([1, 2, 4, 8, 16, 32, 64, 128, 256]))\n"
   ]
  },
  {
   "cell_type": "code",
   "execution_count": 87,
   "metadata": {},
   "outputs": [
    {
     "name": "stdout",
     "output_type": "stream",
     "text": [
      "[256, 128, 64, 32, 16, 8, 4, 2, 1]\n",
      "[256, 128, 64, 32, 16, 8, 4, 2, 1]\n",
      "[256, 128, 64, 32, 16, 8, 4, 2, 1]\n",
      "[256, 128, 64, 32, 16, 8, 4, 2, 1]\n",
      "[256, 128, 64, 32, 16, 8, 4, 2, 1]\n"
     ]
    }
   ],
   "source": [
    "# C-1.13 Write a pseudo-code description of a function that reverses a list of n\n",
    "# integers, so that the numbers are listed in the opposite order than they\n",
    "# were before, and compare this method to an equivalent Python function\n",
    "# for doing the same thing.\n",
    "\n",
    "# recieve list, reverse list, return list\n",
    "\n",
    "def reverser(data):\n",
    "    return data[::-1]\n",
    "\n",
    "def reverser2(data):\n",
    "    data.reverse()\n",
    "    return data\n",
    "\n",
    "def reverser3(data):\n",
    "    reversed_list = list(reversed(data))\n",
    "    return reversed_list\n",
    "\n",
    "def reverser4(data):\n",
    "    reversed_list = []\n",
    "    for e in data:\n",
    "        reversed_list.insert(0, e)\n",
    "    return reversed_list\n",
    "\n",
    "def reverser5(data):\n",
    "    reversed_list = []\n",
    "    for i in range(len(data)-1, -1, -1):\n",
    "        reversed_list.append(data[i])\n",
    "    return reversed_list\n",
    "\n",
    "\n",
    "print(reverser([1, 2, 4, 8, 16, 32, 64, 128, 256]))\n",
    "print(reverser2([1, 2, 4, 8, 16, 32, 64, 128, 256]))\n",
    "print(reverser3([1, 2, 4, 8, 16, 32, 64, 128, 256]))\n",
    "print(reverser4([1, 2, 4, 8, 16, 32, 64, 128, 256]))\n",
    "print(reverser5([1, 2, 4, 8, 16, 32, 64, 128, 256]))"
   ]
  },
  {
   "cell_type": "code",
   "execution_count": 88,
   "metadata": {},
   "outputs": [
    {
     "name": "stdout",
     "output_type": "stream",
     "text": [
      "True\n",
      "True\n",
      "False\n",
      "False\n",
      "True\n",
      "\n",
      "True\n",
      "True\n",
      "False\n",
      "False\n",
      "True\n"
     ]
    }
   ],
   "source": [
    "# C-1.14 Write a short Python function that takes a sequence of integer values and\n",
    "# determines if there is a distinct pair of numbers in the sequence whose\n",
    "# product is odd.\n",
    "\n",
    "def odd_pair(nums):\n",
    "    for x in nums:\n",
    "        for y in nums:\n",
    "            if x!=y and (x*y) % 2 != 0:\n",
    "                return True\n",
    "    return False\n",
    "\n",
    "def odd_pair2(nums):\n",
    "    return len([x for x in nums if x % 2 !=0]) > 1 \n",
    "\n",
    "print(odd_pair([1,3,5,6]))\n",
    "print(odd_pair([1,3,4,6]))\n",
    "print(odd_pair([2,4,6,8]))\n",
    "print(odd_pair([2,4,6,7]))\n",
    "print(odd_pair([2,4,5,7]))\n",
    "print()\n",
    "print(odd_pair2([1,3,5,6]))\n",
    "print(odd_pair2([1,3,4,6]))\n",
    "print(odd_pair2([2,4,6,8]))\n",
    "print(odd_pair2([2,4,6,7]))\n",
    "print(odd_pair2([2,4,5,7]))"
   ]
  },
  {
   "cell_type": "code",
   "execution_count": 89,
   "metadata": {},
   "outputs": [
    {
     "name": "stdout",
     "output_type": "stream",
     "text": [
      "There are no duplicates in the list\n",
      "There are duplicates in the list\n",
      "There are duplicates in the list\n",
      "There are duplicates in the list\n",
      "\n",
      "There are no duplicates in the list\n",
      "There are duplicates in the list\n",
      "There are duplicates in the list\n",
      "There are duplicates in the list\n"
     ]
    }
   ],
   "source": [
    "# C-1.15 Write a Python function that takes a sequence of numbers and determines\n",
    "# if all the numbers are different from each other (that is, they are distinct).\n",
    "\n",
    "def distinct(nums):\n",
    "    current = nums[0]\n",
    "    for i in range(1, len(nums)): \n",
    "        if nums[i] == current:\n",
    "            return \"There are duplicates in the list\"\n",
    "        else:\n",
    "            current = nums[i]\n",
    "    return \"There are no duplicates in the list\"\n",
    "\n",
    "def distinct2(nums):\n",
    "    duplicates = 0\n",
    "    for num in nums:\n",
    "        for num2 in nums:\n",
    "            if num == num2:\n",
    "                duplicates += 1\n",
    "    if duplicates > len(nums):\n",
    "        return \"There are duplicates in the list\"\n",
    "    else:\n",
    "        return \"There are no duplicates in the list\"\n",
    "    \n",
    "print(distinct([0, 2, 6, 12, 20, 30, 42, 56, 72, 90]))\n",
    "print(distinct([2, 2, 6, 12, 20, 30, 42, 56, 72, 90]))\n",
    "print(distinct([0, 2, 6, 12, 20, 30, 30, 30, 42, 56, 72, 90]))\n",
    "print(distinct([0, 2, 6, 12, 20, 30, 30, 30, 42, 56, 72, 0]))\n",
    "print()\n",
    "print(distinct2([0, 2, 6, 12, 20, 30, 42, 56, 72, 90]))\n",
    "print(distinct2([2, 2, 6, 12, 20, 30, 42, 56, 72, 90]))\n",
    "print(distinct2([0, 2, 6, 12, 20, 30, 30, 30, 42, 56, 72, 90]))\n",
    "print(distinct2([0, 2, 6, 12, 20, 30, 30, 30, 42, 56, 72, 0]))"
   ]
  },
  {
   "cell_type": "code",
   "execution_count": 90,
   "metadata": {},
   "outputs": [],
   "source": [
    "# C-1.16 In our implementation of the scale function (page 25), the body of the loop\n",
    "# executes the command data[j] = factor. We have discussed that numeric\n",
    "# types are immutable, and that use of the = operator in this context causes\n",
    "# the creation of a new instance (not the mutation of an existing instance).\n",
    "# How is it still possible, then, that our implementation of scale changes the\n",
    "# actual parameter sent by the caller?\n",
    "\n",
    "# Answer: in this case since our list is mutable we can change the values within our list\n",
    "# and in regards to the integer itself since it's not mutationg and it's only being\n",
    "# replaced by another instance by using the immutable integer in an operation to create \n",
    "# a new integer, we can do this operation without mutating the number\n"
   ]
  },
  {
   "cell_type": "code",
   "execution_count": 91,
   "metadata": {},
   "outputs": [
    {
     "name": "stdout",
     "output_type": "stream",
     "text": [
      "[5, 10, 15, 20]\n",
      "[1, 2, 3, 4]\n"
     ]
    }
   ],
   "source": [
    "# C-1.17 Had we implemented the scale function (page 25) as follows, does it work\n",
    "# properly?\n",
    "# def scale(data, factor):\n",
    "# for val in data:\n",
    "# val = factor\n",
    "\n",
    "# Answer: No, it would'nt work. in this situation we are only creating a new instance \n",
    "# based on our list and giving it a new value without assigning it to anything\n",
    "# as result while the value is being created since we are not directly assigning it to the list,\n",
    "# the list won't scale.\n",
    "\n",
    "def scale(data, factor):\n",
    "    for j in range(len(data)):\n",
    "        data[j] *= factor\n",
    "    return data\n",
    "def wrong_scale(data, factor):\n",
    "    for val in data:\n",
    "        val *= factor\n",
    "    return data\n",
    "\n",
    "print(scale([1,2,3,4], 5))\n",
    "print(wrong_scale([1,2,3,4], 5))"
   ]
  },
  {
   "cell_type": "code",
   "execution_count": 92,
   "metadata": {},
   "outputs": [
    {
     "name": "stdout",
     "output_type": "stream",
     "text": [
      "[0, 2, 6, 12, 20, 30, 42, 56, 72, 90]\n",
      "[0, 2, 6, 12, 20, 30, 42, 56, 72, 90]\n",
      "[0, 2, 6, 12, 20, 30, 42, 56, 72, 90]\n"
     ]
    }
   ],
   "source": [
    "# C-1.18 Demonstrate how to use Python’s list comprehension syntax to produce\n",
    "# the list [0, 2, 6, 12, 20, 30, 42, 56, 72, 90].\n",
    "\n",
    "def create_list(start, length):\n",
    "    progressive_list = [start]\n",
    "    for i in range(1, length):\n",
    "        progressive_list.append(progressive_list[i-1] + 2*i)\n",
    "    return progressive_list\n",
    "def create_list2(start, length):\n",
    "    progressive_list = []\n",
    "    for i in range(start, length):\n",
    "        progressive_list.append(i * (i+1))\n",
    "    return progressive_list\n",
    "\n",
    "print(create_list(0,10)) \n",
    "print(create_list2(0,10)) \n",
    "print([i*(i+1) for i in range(0,10)])"
   ]
  },
  {
   "cell_type": "code",
   "execution_count": 93,
   "metadata": {},
   "outputs": [
    {
     "name": "stdout",
     "output_type": "stream",
     "text": [
      "['a', 'b', 'c', 'd', 'e', 'f', 'g', 'h', 'i', 'j', 'k', 'l', 'm', 'n', 'o', 'p', 'q', 'r', 's', 't', 'u', 'v', 'w', 'x', 'y', 'z']\n"
     ]
    }
   ],
   "source": [
    "# C-1.19 Demonstrate how to use Python’s list comprehension syntax to produce\n",
    "# the list [ a , b , c , ..., z ], but without having to type all 26 such\n",
    "# characters literally.\n",
    "\n",
    "print([chr(i) for i in range(97,123)])\n",
    "\n"
   ]
  },
  {
   "cell_type": "code",
   "execution_count": 94,
   "metadata": {},
   "outputs": [
    {
     "name": "stdout",
     "output_type": "stream",
     "text": [
      "[9, 1, 8, 0, 4, 7, 3, 0, 5, 0, 6]\n"
     ]
    }
   ],
   "source": [
    "# C-1.20 Python’s random module includes a function shuffle(data) that accepts a\n",
    "# list of elements and randomly reorders the elements so that each possible\n",
    "# order occurs with equal probability. The random module includes a\n",
    "# more basic function randint(a, b) that returns a uniformly random integer\n",
    "# from a to b (including both endpoints). Using only the randint function,\n",
    "# implement your own version of the shuffle function.\n",
    "\n",
    "from random import randint\n",
    "\n",
    "def order_random(data):\n",
    "    original_list = data.copy()\n",
    "    new_list = []\n",
    "    duplicates = []\n",
    "    for d in data:\n",
    "        if data.count(d) > 1 and d not in duplicates:\n",
    "            for i in range(data.count(d)):\n",
    "                duplicates.append(d)\n",
    "                original_list.remove(d)\n",
    "                \n",
    "\n",
    "    while len(new_list) < len(original_list):\n",
    "        for d in original_list:\n",
    "            num = original_list[randint(0,len(original_list) - 1)]\n",
    "            if num not in new_list:\n",
    "                new_list.append(num)\n",
    "    for num in duplicates:\n",
    "        new_list.insert(randint(0,len(new_list) - 1), num)\n",
    "\n",
    "    return new_list\n",
    "\n",
    "print(order_random([0,1,3,4,5,6,7,8,9,0,0]))\n",
    "\n"
   ]
  },
  {
   "cell_type": "code",
   "execution_count": 95,
   "metadata": {},
   "outputs": [
    {
     "ename": "KeyboardInterrupt",
     "evalue": "Interrupted by user",
     "output_type": "error",
     "traceback": [
      "\u001b[1;31m---------------------------------------------------------------------------\u001b[0m",
      "\u001b[1;31mKeyboardInterrupt\u001b[0m                         Traceback (most recent call last)",
      "Cell \u001b[1;32mIn[95], line 24\u001b[0m\n\u001b[0;32m     22\u001b[0m                 \u001b[39mprint\u001b[39m(line)\n\u001b[0;32m     23\u001b[0m             \u001b[39mreturn\u001b[39;00m\n\u001b[1;32m---> 24\u001b[0m write_read_reverse(\u001b[39mr\u001b[39;49m\u001b[39m'\u001b[39;49m\u001b[39msample.txt\u001b[39;49m\u001b[39m'\u001b[39;49m)\n",
      "Cell \u001b[1;32mIn[95], line 9\u001b[0m, in \u001b[0;36mwrite_read_reverse\u001b[1;34m(file)\u001b[0m\n\u001b[0;32m      7\u001b[0m lines \u001b[39m=\u001b[39m []\n\u001b[0;32m      8\u001b[0m \u001b[39mwhile\u001b[39;00m \u001b[39mTrue\u001b[39;00m:\n\u001b[1;32m----> 9\u001b[0m     entry \u001b[39m=\u001b[39m \u001b[39minput\u001b[39;49m()\n\u001b[0;32m     10\u001b[0m     \u001b[39mif\u001b[39;00m entry \u001b[39m==\u001b[39m \u001b[39m\"\u001b[39m\u001b[39mctrl-D\u001b[39m\u001b[39m\"\u001b[39m:\n\u001b[0;32m     11\u001b[0m         \u001b[39mbreak\u001b[39;00m\n",
      "File \u001b[1;32m~\\AppData\\Local\\Packages\\PythonSoftwareFoundation.Python.3.10_qbz5n2kfra8p0\\LocalCache\\local-packages\\Python310\\site-packages\\ipykernel\\kernelbase.py:1182\u001b[0m, in \u001b[0;36mKernel.raw_input\u001b[1;34m(self, prompt)\u001b[0m\n\u001b[0;32m   1180\u001b[0m     msg \u001b[39m=\u001b[39m \u001b[39m\"\u001b[39m\u001b[39mraw_input was called, but this frontend does not support input requests.\u001b[39m\u001b[39m\"\u001b[39m\n\u001b[0;32m   1181\u001b[0m     \u001b[39mraise\u001b[39;00m StdinNotImplementedError(msg)\n\u001b[1;32m-> 1182\u001b[0m \u001b[39mreturn\u001b[39;00m \u001b[39mself\u001b[39;49m\u001b[39m.\u001b[39;49m_input_request(\n\u001b[0;32m   1183\u001b[0m     \u001b[39mstr\u001b[39;49m(prompt),\n\u001b[0;32m   1184\u001b[0m     \u001b[39mself\u001b[39;49m\u001b[39m.\u001b[39;49m_parent_ident[\u001b[39m\"\u001b[39;49m\u001b[39mshell\u001b[39;49m\u001b[39m\"\u001b[39;49m],\n\u001b[0;32m   1185\u001b[0m     \u001b[39mself\u001b[39;49m\u001b[39m.\u001b[39;49mget_parent(\u001b[39m\"\u001b[39;49m\u001b[39mshell\u001b[39;49m\u001b[39m\"\u001b[39;49m),\n\u001b[0;32m   1186\u001b[0m     password\u001b[39m=\u001b[39;49m\u001b[39mFalse\u001b[39;49;00m,\n\u001b[0;32m   1187\u001b[0m )\n",
      "File \u001b[1;32m~\\AppData\\Local\\Packages\\PythonSoftwareFoundation.Python.3.10_qbz5n2kfra8p0\\LocalCache\\local-packages\\Python310\\site-packages\\ipykernel\\kernelbase.py:1225\u001b[0m, in \u001b[0;36mKernel._input_request\u001b[1;34m(self, prompt, ident, parent, password)\u001b[0m\n\u001b[0;32m   1222\u001b[0m \u001b[39mexcept\u001b[39;00m \u001b[39mKeyboardInterrupt\u001b[39;00m:\n\u001b[0;32m   1223\u001b[0m     \u001b[39m# re-raise KeyboardInterrupt, to truncate traceback\u001b[39;00m\n\u001b[0;32m   1224\u001b[0m     msg \u001b[39m=\u001b[39m \u001b[39m\"\u001b[39m\u001b[39mInterrupted by user\u001b[39m\u001b[39m\"\u001b[39m\n\u001b[1;32m-> 1225\u001b[0m     \u001b[39mraise\u001b[39;00m \u001b[39mKeyboardInterrupt\u001b[39;00m(msg) \u001b[39mfrom\u001b[39;00m \u001b[39mNone\u001b[39m\n\u001b[0;32m   1226\u001b[0m \u001b[39mexcept\u001b[39;00m \u001b[39mException\u001b[39;00m:\n\u001b[0;32m   1227\u001b[0m     \u001b[39mself\u001b[39m\u001b[39m.\u001b[39mlog\u001b[39m.\u001b[39mwarning(\u001b[39m\"\u001b[39m\u001b[39mInvalid Message:\u001b[39m\u001b[39m\"\u001b[39m, exc_info\u001b[39m=\u001b[39m\u001b[39mTrue\u001b[39;00m)\n",
      "\u001b[1;31mKeyboardInterrupt\u001b[0m: Interrupted by user"
     ]
    }
   ],
   "source": [
    "# C-1.21 Write a Python program that repeatedly reads lines from standard input\n",
    "# until an EOFError is raised, and then outputs those lines in reverse order\n",
    "# (a user can indicate end of input by typing ctrl-D).\n",
    "\n",
    "def write_read_reverse(file):\n",
    "    fp = open(file, 'r+')\n",
    "    lines = []\n",
    "    while True:\n",
    "        entry = input()\n",
    "        if entry == \"ctrl-D\":\n",
    "            break\n",
    "        fp.write('{}\\n'.format(entry) )\n",
    "    wp = open(file)\n",
    "    while True:\n",
    "        try:\n",
    "            x=wp.readline()\n",
    "            if x == '':\n",
    "                raise EOFError\n",
    "            lines.append(x)\n",
    "        except EOFError:\n",
    "            for line in lines[::-1]:\n",
    "                print(line)\n",
    "            return\n",
    "write_read_reverse(r'sample.txt')\n"
   ]
  },
  {
   "cell_type": "code",
   "execution_count": null,
   "metadata": {},
   "outputs": [
    {
     "data": {
      "text/plain": [
       "[1, 4, 9, 16]"
      ]
     },
     "execution_count": 71,
     "metadata": {},
     "output_type": "execute_result"
    }
   ],
   "source": [
    "# C-1.22 Write a short Python program that takes two arrays a and b of length n\n",
    "# storing int values, and returns the dot product of a and b. That is, it returns\n",
    "# an array c of length n such that c[i] = a[i] · b[i], for i = 0, . . . ,n−1.\n",
    "\n",
    "def array_product(a,b):\n",
    "    assert len(a) == len(b)\n",
    "    c = []\n",
    "    for i in range(len(a)):\n",
    "        c.append(a[i] * b[i])\n",
    "    return c\n",
    "\n",
    "array_product([1,2,3,4] , [1,2,3,4])"
   ]
  },
  {
   "cell_type": "code",
   "execution_count": null,
   "metadata": {},
   "outputs": [
    {
     "name": "stdout",
     "output_type": "stream",
     "text": [
      "[1, 2, 3, 3]\n",
      "Don't try buffer overflow attacks in Python!\n"
     ]
    }
   ],
   "source": [
    "# C-1.23 Give an example of a Python code fragment that attempts to write an element\n",
    "# to a list based on an index that may be out of bounds. If that index\n",
    "# is out of bounds, the program should catch the exception that results, and\n",
    "# print the following error message:\n",
    "# “Don’t try buffer overflow attacks in Python!”\n",
    "\n",
    "def write_to_index(list, item, index):\n",
    "    try:\n",
    "        list[index] = item\n",
    "    except IndexError:\n",
    "        return \"Don't try buffer overflow attacks in Python!\"\n",
    "    return list\n",
    "print(write_to_index([1,2,3,4], 3, 3))\n",
    "print(write_to_index([1,2,3,4], 5, 7))\n"
   ]
  },
  {
   "cell_type": "code",
   "execution_count": null,
   "metadata": {},
   "outputs": [
    {
     "name": "stdout",
     "output_type": "stream",
     "text": [
      "3\n",
      "3\n",
      "0\n",
      "0\n"
     ]
    }
   ],
   "source": [
    "# C-1.24 Write a short Python function that counts the number of vowels in a given\n",
    "# character string.\n",
    "\n",
    "def vowel_count(str_):\n",
    "    return len([x for x in str_ if x in 'aoiue'])\n",
    "\n",
    "print(vowel_count('aie'))\n",
    "print(vowel_count('ieassd'))\n",
    "print(vowel_count(''))\n",
    "print(vowel_count('nst'))"
   ]
  },
  {
   "cell_type": "code",
   "execution_count": null,
   "metadata": {},
   "outputs": [
    {
     "name": "stdout",
     "output_type": "stream",
     "text": [
      "Lets try Mike\n"
     ]
    }
   ],
   "source": [
    "# C-1.25 Write a short Python function that takes a string s, representing a sentence,\n",
    "# and returns a copy of the string with all punctuation removed. For example,\n",
    "# if given the string \"Let s try, Mike.\", this function would return\n",
    "# \"Lets try Mike\".\n",
    "\n",
    "def ponctuation_remover(str_):\n",
    "    return ''.join([l for l in str_ if l not in [chr(i) for i in range(33,65)]])\n",
    "\n",
    "print(ponctuation_remover(\"Let's try, Mike.\",))"
   ]
  },
  {
   "cell_type": "code",
   "execution_count": null,
   "metadata": {},
   "outputs": [
    {
     "name": "stdout",
     "output_type": "stream",
     "text": [
      "True\n",
      "False\n",
      "True\n"
     ]
    }
   ],
   "source": [
    "# C-1.26 Write a short program that takes as input three integers, a, b, and c, from\n",
    "# the console and determines if they can be used in a correct arithmetic\n",
    "# formula (in the given order), like “a+b = c,” “a = b−c,” or “a ∗ b = c.”\n",
    "\n",
    "def is_arithmetic(a,b,c):\n",
    "    operation_list = ['{} o {}'.format(b,c), '{} o {}'.format(a,b)]\n",
    "    operator_list = ['+','-','*','/']\n",
    "    for operation in operation_list:\n",
    "        for operator in operator_list:\n",
    "            position = operation_list.index(operation)\n",
    "            new_operation = operation.replace('o' , operator)\n",
    "            result = eval(new_operation)\n",
    "            if (position == 0 and result == a) or (position == 1 and result == c):\n",
    "                return True\n",
    "            \n",
    "    return False\n",
    "print(is_arithmetic(1,2,3))        \n",
    "print(is_arithmetic(2,2,100))     \n",
    "print(is_arithmetic(2,50,100))    \n",
    "\n",
    "        \n"
   ]
  },
  {
   "cell_type": "code",
   "execution_count": null,
   "metadata": {},
   "outputs": [
    {
     "name": "stdout",
     "output_type": "stream",
     "text": [
      "[1, 2, 3, 3, 4, 6, 12]\n"
     ]
    }
   ],
   "source": [
    "# C-1.27 In Section 1.8, we provided three different implementations of a generator\n",
    "# that computes factors of a given integer. The third of those implementations,\n",
    "# from page 41, was the most efficient, but we noted that it did not\n",
    "# yield the factors in increasing order. Modify the generator so that it reports\n",
    "# factors in increasing order, while maintaining its general performance advantages.\n",
    "\n",
    "def factors(n):\n",
    "    k = 1\n",
    "    while k * k < n:\n",
    "        if n % k == 0:\n",
    "            yield k\n",
    "        k += 1\n",
    "    while k >= 1:\n",
    "        if n % k == 0:\n",
    "            yield n // k    \n",
    "        k -= 1\n",
    "x = [i for i in factors(12)]\n",
    "print(x)"
   ]
  },
  {
   "cell_type": "code",
   "execution_count": null,
   "metadata": {},
   "outputs": [
    {
     "name": "stdout",
     "output_type": "stream",
     "text": [
      "5.0\n",
      "4.626065009182741\n"
     ]
    }
   ],
   "source": [
    "# ......................C-1.28........................\n",
    "\n",
    "def euclidean(v,p):\n",
    "    return sum([x**p for x in v]) **(1/p)\n",
    "\n",
    "print(euclidean([4,3], 2))\n",
    "print(euclidean([4,3,2], 3))\n",
    "        "
   ]
  },
  {
   "cell_type": "code",
   "execution_count": null,
   "metadata": {},
   "outputs": [
    {
     "name": "stdout",
     "output_type": "stream",
     "text": [
      "['ctoagd', 'tcadgo', 'gtcdoa', 'tdogac', 'gaodtc', 'atgdco', 'gaodct', 'ctdgao', 'tgaodc', 'ctodag', 'caogdt', 'ogdtac', 'datgco', 'cgtaod', 'gtdcoa', 'togdac', 'atocgd', 'ogacdt', 'dgcato', 'gtodac', 'adcgot', 'tacodg', 'ocdgat', 'gcodat', 'cgaodt', 'cdoatg', 'dgotca', 'tgcdoa', 'agdoct', 'cgodat', 'ogactd', 'gacdto', 'tcoagd', 'todgca', 'odctag', 'cdogta', 'ogatdc', 'acotgd', 'toagcd', 'gdotca', 'tgocad', 'tadgco', 'acogtd', 'todgac', 'otadgc', 'otgdac', 'atgcod', 'atgcdo', 'odtcga', 'oatcdg', 'atcdog', 'otadcg', 'coagdt', 'cgodta', 'atodgc', 'tcgoda', 'codagt', 'doactg', 'tacdog', 'cdtgao', 'caotgd', 'cotagd', 'acgdot', 'cgtado', 'adgoct', 'gdatoc', 'agodct', 'dagotc', 'tadgoc', 'atodcg', 'tgocda', 'odtgca', 'tagocd', 'gtoadc', 'tcgdao', 'dcogta', 'gotdca', 'cogdta', 'dgacto', 'tcgoad', 'octgda', 'catgod', 'odcgat', 'acdtog', 'gctdoa', 'acotdg', 'cadtog', 'godtca', 'godcta', 'gdocat', 'ogtcda', 'gdcoat', 'aogtcd', 'gctaod', 'dtacog', 'gcadot', 'agtodc', 'ctagdo', 'acodgt', 'agtcod', 'coagtd', 'godcat', 'cgtoda', 'dtgcao', 'gdtcao', 'tdocga', 'gadotc', 'daotgc', 'agdtco', 'gotcad', 'gcdato', 'gcdaot', 'dtacgo', 'doagtc', 'gdtoac', 'gdoact', 'odagct', 'aotcgd', 'ocdgta', 'ogdcta', 'actgdo', 'todacg', 'dtagoc', 'gtcdao', 'coatdg', 'taocdg', 'otgcda', 'gotdac', 'gcdtoa', 'ogcatd', 'goacdt', 'actgod', 'tagcdo', 'oatdgc', 'tdacgo', 'gocdat', 'ctogda', 'atgdoc', 'gcdoat', 'oactdg', 'daotcg', 'adtcog', 'agotcd', 'agtdco', 'dtocga', 'aocgdt', 'cotgad', 'odcgta', 'codtag', 'cdaogt', 'dtgaoc', 'todcga', 'ogtdac', 'tdocag', 'cgtoad', 'dctoga', 'cgatdo', 'agdcto', 'tcogda', 'odctga', 'acdogt', 'caodtg', 'ocgtda', 'cgotda', 'tadogc', 'aodgtc', 'cdtaog', 'docatg', 'dtcaog', 'gtcoad', 'gocadt', 'agtdoc', 'gtdcao', 'ctdaog', 'odgtac', 'tcdoag', 'tgadoc', 'cdoagt', 'cgdtao', 'gcatod', 'otcgad', 'agdotc', 'dtcoga', 'tdgoca', 'oagcdt', 'ocgatd', 'dtcago', 'cadgto', 'odgcat', 'cogtda', 'dotgca', 'otacdg', 'actogd', 'agcdto', 'cotgda', 'actdog', 'oadcgt', 'odacgt', 'gdcato', 'dtogac', 'adtgco', 'tadocg', 'odgatc', 'tdgcoa', 'dctaog', 'gdoatc', 'dogcat', 'acdgot', 'aodtgc', 'odactg', 'dtaogc', 'cdogat', 'atdogc', 'oadctg', 'tgcdao', 'aogdct', 'togadc', 'octdga', 'aotcdg', 'otgdca', 'ctogad', 'gtacod', 'odgtca', 'codgta', 'gadtoc', 'ctgoad', 'codtga', 'tdgaoc', 'ctodga', 'oatdcg', 'datgoc', 'datcog', 'cdgato', 'otdcag', 'agctdo', 'adocgt', 'gatdco', 'acogdt', 'atdgco', 'dtgoac', 'daogct', 'odgact', 'cagdot', 'aodgct', 'oagctd', 'acgtdo', 'gacotd', 'goadtc', 'acgdto', 'tcodag', 'dcotag', 'ocdagt', 'ocdtga', 'gdctoa', 'tgdaoc', 'dgocat', 'gadoct', 'dtgcoa', 'dtgoca', 'cdtoag', 'dtocag', 'dgtcoa', 'dgoatc', 'dcogat', 'gdaotc', 'ogdatc', 'cadgot', 'adgotc', 'odatcg', 'cagtod', 'tacogd', 'otagcd', 'ogadct', 'aogctd', 'cdatgo', 'ctgaod', 'oadgtc', 'gcotad', 'tcdago', 'cgadto', 'aotdcg', 'cogdat', 'ocdatg', 'taogcd', 'dcatgo', 'ogdact', 'gtdaoc', 'adcotg', 'cgdaot', 'tadcgo', 'adogtc', 'dacogt', 'ctdoga', 'adtgoc', 'catdog', 'ctdgoa', 'caodgt', 'cdtago', 'ocgdat', 'tgcoda', 'catodg', 'aogdtc', 'otgadc', 'gotcda', 'gctdao', 'cdtgoa', 'tdcgoa', 'tcaogd', 'daocgt', 'dgatoc', 'cgadot', 'agcodt', 'gtcoda', 'cdagot', 'acdgto', 'oactgd', 'octgad', 'cgaotd', 'gdcota', 'otdcga', 'doacgt', 'ogcdta', 'togcad', 'ogctda', 'atcgdo', 'otdgac', 'actdgo', 'gtocad', 'dcatog', 'acgotd', 'atgodc', 'dgtoac', 'oatgcd', 'gadtco', 'gctoad', 'ogatcd', 'tgacdo', 'gaotdc', 'cdotag', 'gcotda', 'tocagd', 'otagdc', 'agodtc', 'tgdcoa', 'gtaodc', 'gdocta', 'gdatco', 'cdgtoa', 'taogdc', 'dgtaoc', 'dcgoat', 'tagcod', 'gaoctd', 'tcodga', 'dctago', 'tocadg', 'cotdag', 'tgoadc', 'ogtacd', 'dacgot', 'doatcg', 'taocgd', 'cdgoat', 'gdtaco', 'adgtoc', 'agctod', 'todagc', 'codatg', 'toagdc', 'gacodt', 'gadcot', 'dgotac', 'cadtgo', 'dgtoca', 'tacgdo', 'tcgado', 'godatc', 'gcaodt', 'tocdag', 'oacdtg', 'tgcoad', 'cagodt', 'dotcag', 'ogcadt', 'dctgao', 'odatgc', 'otcagd', 'adgcot', 'atogcd', 'gcoatd', 'tcadog', 'goctda', 'todcag', 'dgocta', 'gctoda', 'togcda', 'tgdaco', 'gtdaco', 'gdotac', 'catgdo', 'tcogad', 'dtoacg', 'dtoagc', 'ogtadc', 'goatdc', 'agcotd', 'cgdato', 'dgctoa', 'dgtcao', 'tdoacg', 'cdgtao', 'cotdga', 'goactd', 'aocdtg', 'atcgod', 'aotgdc', 'dcagto', 'taodcg', 'gtaocd', 'cgatod', 'dcaogt', 'ocgtad', 'odtagc', 'otcgda', 'gcadto', 'doctga', 'cdtoga', 'otdgca', 'dagtoc', 'gtcaod', 'tagdco', 'docagt', 'tocgad', 'agdtoc', 'docgta', 'odcagt', 'goatcd', 'oagdtc', 'oatcgd', 'toacdg', 'ctgoda', 'gtoacd', 'agocdt', 'catdgo', 'ogdcat', 'adcgto', 'ocgadt', 'dogatc', 'tdogca', 'gdctao', 'godact', 'atocdg', 'oatgdc', 'agoctd', 'dogtac', 'atcodg', 'tcdgoa', 'tcgdoa', 'dtogca', 'adcogt', 'tgcado', 'ocatgd', 'tgaocd', 'atdcog', 'caogtd', 'tdcgao', 'ctgdoa', 'tgcaod', 'dagcot', 'gdtoca', 'agdcot', 'tdagco', 'gactdo', 'togdca', 'ocagdt', 'gatdoc', 'gdaoct', 'dtagco', 'godtac', 'otdagc', 'dtgaco', 'atdcgo', 'atcdgo', 'cgoadt', 'cogadt', 'oacdgt', 'dotacg', 'gcodta', 'otgcad', 'toadgc', 'datocg', 'dacgto', 'gatcod', 'gtacdo', 'dogtca', 'acgodt', 'dotgac', 'adotgc', 'tdcaog', 'dacotg', 'cdgaot', 'tcaodg', 'tdcoag', 'cgoatd', 'dcagot', 'gaotcd', 'dcotga', 'odtgac', 'aodctg', 'dotcga', 'octdag', 'atgocd', 'oagtcd', 'dtcgoa', 'agcdot', 'doctag', 'dogact', 'dcgota', 'cotadg', 'tgoacd', 'odgcta', 'acgtod', 'odtacg', 'tcagdo', 'cagotd', 'dtcgao', 'dgatco', 'tgodca', 'gotacd', 'tcagod', 'dgcota', 'otacgd', 'ocadtg', 'cdotga', 'ocadgt', 'adctog', 'cagtdo', 'doagct', 'gcdtao', 'agtocd', 'aoctgd', 'gatocd', 'tdgaco', 'dotagc', 'cagdto', 'oacgdt', 'atogdc', 'gdcaot', 'dgcaot', 'ctdoag', 'ocatdg', 'datogc', 'tdaogc', 'ctoadg', 'gcoadt', 'adgcto', 'otgacd', 'tgadco', 'cdgota', 'tdaocg', 'tgdcao', 'gdacto', 'adtcgo', 'atcogd', 'oadtcg', 'gotadc', 'tdgcao', 'cgtdoa', 'gactod', 'tdcago', 'ogctad', 'dctoag', 'otcdga', 'odtcag', 'acodtg', 'atdgoc', 'gacdot', 'toadcg', 'tacdgo', 'goadct', 'adgtco', 'adctgo', 'adogct', 'tadcog', 'ogadtc', 'dtaocg', 'dgcoat', 'otcadg', 'gtdoac', 'oadgct', 'codgat', 'dgtaco', 'ctdago', 'gocdta', 'cdaotg', 'dcoagt', 'oagdct', 'gctado', 'gtcado', 'ctgado', 'dgaotc', 'aodcgt', 'tgacod', 'cogtad', 'actodg', 'datcgo', 'cgtdao', 'aotdgc', 'docgat', 'daoctg', 'goctad', 'ocgdta', 'cadotg', 'ctaodg', 'coatgd', 'oadtgc', 'toacgd', 'gaocdt', 'adtogc', 'cogatd', 'gcdota', 'gcaotd', 'dogcta', 'otdacg', 'dagtco', 'tagdoc', 'otcdag', 'dcgtoa', 'tacgod', 'tocdga', 'aoctdg', 'tcdoga', 'agtcdo', 'odagtc', 'tgdoac', 'ocdtag', 'acdotg', 'tcdgao', 'dactgo', 'octadg', 'gatcdo', 'gtodca', 'tocgda', 'togacd', 'ogtcad', 'gtocda', 'doatgc', 'ctaogd', 'gdacot', 'dtcoag', 'cgdoat', 'tgdoca', 'tdacog', 'coadtg', 'atdocg', 'aotgcd', 'ocagtd', 'dgoact', 'acdtgo', 'dagcto', 'tdoagc', 'dcgato', 'gtadco', 'dagoct', 'gatodc', 'ogdtca', 'dcaotg', 'gdtaoc', 'dctgoa', 'cgdtoa', 'dgaoct', 'tcoadg', 'tdgoac', 'tgodac', 'tagodc', 'adoctg', 'tcdaog', 'aodtcg', 'ogcdat', 'gtadoc', 'octagd', 'ctadog', 'gtdoca', 'cgdota', 'dcoatg', 'aocdgt', 'oagtdc', 'tdcoga', 'tdagoc', 'adotcg', 'catogd', 'oacgtd', 'cgotad', 'coadgt', 'cadogt', 'aogcdt', 'ctgdao', 'agotdc', 'aogtdc', 'dgacot', 'caotdg', 'dcgaot', 'ctadgo', 'gocatd', 'ogtdca', 'odcatg', 'gdtcoa', 'ctagod', 'dcgtao', 'adtocg', 'taodgc', 'dactog', 'tcgaod', 'cdagto', 'gadcto', 'dgctao', 'gcatdo', 'cdatog', 'daogtc', 'aocgtd']\n"
     ]
    }
   ],
   "source": [
    "# P-1.29 Write a Python program that outputs all possible strings formed by using\n",
    "# the characters c , a , t , d , o , and g exactly once.\n",
    "from random import(randint)\n",
    "def possible_strings(letter_list):\n",
    "    string_list = []\n",
    "    possibilities = 1\n",
    "    for i in range(1, len(letter_list)+1):\n",
    "        possibilities *= i\n",
    "    while len(string_list) < possibilities:\n",
    "        str_ = ''\n",
    "        while len(str_) < len(letter_list):\n",
    "            next_letter = letter_list[randint(0,len(letter_list)-1)]\n",
    "            if next_letter not in str_:\n",
    "                str_ = str_ + next_letter\n",
    "        if str_ not in string_list:\n",
    "            string_list.append(str_)\n",
    "    return string_list\n",
    "    \n",
    "print(possible_strings(['c','a','t','d','o','g']))\n"
   ]
  },
  {
   "cell_type": "code",
   "execution_count": null,
   "metadata": {},
   "outputs": [
    {
     "data": {
      "text/plain": [
       "3"
      ]
     },
     "execution_count": 8,
     "metadata": {},
     "output_type": "execute_result"
    }
   ],
   "source": [
    "# P-1.30 Write a Python program that can take a positive integer greater than 2 as\n",
    "# input and write out the number of times one must repeatedly divide this\n",
    "# number by 2 before getting a value less than 2.\n",
    "\n",
    "def num_of_devide(num):\n",
    "    count = 0\n",
    "    while num >= 2:\n",
    "        num = num /2\n",
    "        count += 1\n",
    "    return count\n",
    "\n",
    "num_of_devide(8)"
   ]
  },
  {
   "cell_type": "code",
   "execution_count": null,
   "metadata": {},
   "outputs": [
    {
     "name": "stdout",
     "output_type": "stream",
     "text": [
      "0.7100000000000009\n"
     ]
    },
    {
     "data": {
      "text/plain": [
       "'1 20 dollor bill,1 5 dollor bill, 1 50 cent coin,2 10 cent coins,1 1 cent coin, where returned'"
      ]
     },
     "execution_count": 42,
     "metadata": {},
     "output_type": "execute_result"
    }
   ],
   "source": [
    "# P-1.31 Write a Python program that can “make change.” Your program should\n",
    "# take two numbers as input, one that is a monetary amount charged and the\n",
    "# other that is a monetary amount given. It should then return the number\n",
    "# of each kind of bill and coin to give back as change for the difference\n",
    "# between the amount given and the amount charged. The values assigned\n",
    "# to the bills and coins can be based on the monetary system of any current\n",
    "# or former government. Try to design your program so that it returns as\n",
    "# few bills and coins as possible.\n",
    "\n",
    "def make_change(charged, payed):\n",
    "    bills = [100, 50, 20, 10, 5, 2, 1 ]\n",
    "    coins = [50, 25, 10, 5, 2, 1]\n",
    "    rest = payed - charged\n",
    "    returned_bills = {}\n",
    "    returned_coins = {}\n",
    "\n",
    "    for bill in bills:\n",
    "        while rest > bill:\n",
    "            rest = rest - bill\n",
    "            if bill in returned_bills:\n",
    "                returned_bills[bill] +=1\n",
    "            else:\n",
    "                returned_bills[bill] = 1\n",
    "    print(rest)\n",
    "\n",
    "    for coin in coins:\n",
    "        while rest > coin/100:\n",
    "            rest = rest - coin/100\n",
    "            if coin in returned_coins:\n",
    "                returned_coins[coin] +=1\n",
    "            else:\n",
    "                returned_coins[coin] = 1\n",
    "    bill_message = ''\n",
    "    coin_message = ''\n",
    "    for bill in returned_bills:\n",
    "        if returned_bills[bill] == 1:\n",
    "            bill_message = bill_message + '{} {} dollor bill,'.format(returned_bills[bill],bill) \n",
    "        else:\n",
    "            bill_message = bill_message + '{} {} dollor bills,'.format(returned_bills[bill],bill) \n",
    "    for coin in returned_coins:\n",
    "        if returned_coins[coin] == 1:\n",
    "            coin_message = coin_message + '{} {} cent coin,'.format(returned_coins[coin],coin) \n",
    "        else:\n",
    "            coin_message = coin_message + '{} {} cent coins,'.format(returned_coins[coin],coin) \n",
    "    return '{} {} where returned'.format(bill_message, coin_message)\n",
    "make_change(24.29, 50)\n",
    "            \n",
    "            \n",
    "\n"
   ]
  },
  {
   "cell_type": "markdown",
   "metadata": {},
   "source": []
  },
  {
   "cell_type": "code",
   "execution_count": null,
   "metadata": {},
   "outputs": [
    {
     "name": "stdout",
     "output_type": "stream",
     "text": [
      "5\n",
      "7\n"
     ]
    }
   ],
   "source": [
    "# P-1.32 Write a Python program that can simulate a simple calculator, using the\n",
    "# console as the exclusive input and output device. That is, each input to the\n",
    "# calculator, be it a number, like 12.34 or 1034, or an operator, like + or =,\n",
    "# can be done on a separate line. After each such input, you should output\n",
    "# to the Python console what would be displayed on your calculator.\n",
    "\n",
    "def simple_calculator():\n",
    "    result = 0\n",
    "    operation = 0\n",
    "    while True:\n",
    "        entry = input()\n",
    "        if entry == \"finish\":\n",
    "            break\n",
    "        if entry in '+-*/':\n",
    "            operation = entry\n",
    "            entry = input()\n",
    "        if operation == 0:\n",
    "            operation = input()\n",
    "        result = eval('{}{}{}'.format(result,operation,entry))\n",
    "        print(result)\n",
    "\n",
    "simple_calculator()\n",
    "        "
   ]
  },
  {
   "cell_type": "code",
   "execution_count": null,
   "metadata": {},
   "outputs": [
    {
     "name": "stdout",
     "output_type": "stream",
     "text": [
      "I will never spam my friends again.\n",
      "I will never spam my friends again.\n",
      "I will never spam my friends again.\n",
      "I will never spam my friends again.\n",
      "I will never spam my friends again.\n",
      "I will never spam my friends again.\n",
      "I will never spam my friends again.\n",
      "I will never spam my friends again.\n",
      "I will never spam my friends again.\n",
      "I will never spam my friends again.\n",
      "I will never spam my friends again.\n",
      "I will never spam my friends again.\n",
      "I will never spam my friends again.\n",
      "I willGnever spam my friends again.\n",
      "I will never spam my friends again.\n",
      "I will never spam my friends again.\n",
      "I will never spam my friends again.\n",
      "I will never spam my friends again.\n",
      "I will never spam my friends again.\n",
      "I will never spam my friends2again.\n"
     ]
    }
   ],
   "source": [
    "# P-1.34 A common punishment for school children is to write out a sentence multiple\n",
    "# times. Write a Python stand-alone program that will write out the\n",
    "# following sentence one hundred times: “I will never spam my friends\n",
    "# again.” Your program should number each of the sentences and it should\n",
    "# make eight different random-looking typos.\n",
    "from random import randint\n",
    "def punish_python_dumb(sentence, typos, repeats):\n",
    "    for i in range(repeats):\n",
    "        sentence_list = list(sentence)\n",
    "        for j in range(typos):\n",
    "            typo = chr([randint(32,64),randint(65,90)][randint(0,1)])\n",
    "            sentence_list[randint(0, len(sentence_list) - 1)] = typo\n",
    "        print(''.join(sentence_list))\n",
    "\n",
    "\n",
    "\n",
    "def punish_python(sentence, typos, repeats):\n",
    "    sentences = []\n",
    "    for i in range(repeats):\n",
    "        sentences.append(sentence)\n",
    "\n",
    "    for j in range(typos):\n",
    "        typo = chr([randint(32,64),randint(65,90)][randint(0,1)])\n",
    "        position = randint(0, len(sentences) - 1)\n",
    "        target = list(sentences[position])\n",
    "        target[randint(0, len(target))] = typo\n",
    " \n",
    "        sentences[position] = ''.join(target)\n",
    "    for s in sentences:\n",
    "        print(s)\n",
    "\n",
    "punish_python('I will never spam my friends again.', 2, 20)\n",
    "        \n",
    "\n"
   ]
  },
  {
   "cell_type": "code",
   "execution_count": 106,
   "metadata": {},
   "outputs": [
    {
     "data": {
      "text/plain": [
       "'for 20 people the probability of the same birthday is 40.9%'"
      ]
     },
     "execution_count": 106,
     "metadata": {},
     "output_type": "execute_result"
    }
   ],
   "source": [
    "# P-1.35 The birthday paradox says that the probability that two people in a room\n",
    "# will have the same birthday is more than half, provided n, the number of\n",
    "# people in the room, is more than 23. This property is not really a paradox,\n",
    "# but many people find it surprising. Design a Python program that can test\n",
    "# this paradox by a series of experiments on randomly generated birthdays,\n",
    "# which test this paradox for n = 5,10,15,20, . . . ,100.\n",
    "from random import randint\n",
    "def birthday_paradox(n):\n",
    "    probability = 0\n",
    "    for i in range(1000):\n",
    "        birthdays = []\n",
    "        for i in range(n):\n",
    "            birthdays.append(randint(1,365))\n",
    "        for i in range(n):\n",
    "            if birthdays.count(birthdays[i]) > 1:\n",
    "                probability += 1\n",
    "                break\n",
    "    return 'for {} people the probability of the same birthday is {}%'.format(n,probability/10)\n",
    "\n",
    "birthday_paradox(20)\n",
    "\n",
    "    \n",
    "        "
   ]
  },
  {
   "cell_type": "code",
   "execution_count": 115,
   "metadata": {},
   "outputs": [
    {
     "name": "stdout",
     "output_type": "stream",
     "text": [
      "the word:hi was repeated 1 times.\n",
      "the word:my was repeated 3 times.\n",
      "the word:name was repeated 3 times.\n",
      "the word:is was repeated 3 times.\n",
      "the word:chika was repeated 2 times.\n",
      "the word:slim was repeated 1 times.\n",
      "the word:shady was repeated 1 times.\n"
     ]
    }
   ],
   "source": [
    "# P-1.36 Write a Python program that inputs a list of words, separated by whitespace,\n",
    "# and outputs how many times each word appears in the list. You\n",
    "# need not worry about efficiency at this point, however, as this topic is\n",
    "# something that will be addressed later in this book.\n",
    "\n",
    "def repeat_count(word_list):\n",
    "    for i in range(len(word_list)):\n",
    "        for l in word_list[i]:\n",
    "            if l in [chr(x) for x in range(33,64)]:\n",
    "                word_list[i] = word_list[i].replace(l,'')\n",
    "    word_dict = {}\n",
    "    for word in word_list:\n",
    "        if word in word_dict:\n",
    "            word_dict[word] += 1\n",
    "        else:\n",
    "            word_dict[word] = 1\n",
    "    for word in word_dict:\n",
    "        print('the word:{} was repeated {} times.'.format(word, word_dict[word]))\n",
    "    \n",
    "    \n",
    "repeat_count(\"hi my name is, my name is, my name is chika chika slim shady\".split(' '))\n"
   ]
  }
 ],
 "metadata": {
  "kernelspec": {
   "display_name": "Python 3",
   "language": "python",
   "name": "python3"
  },
  "language_info": {
   "codemirror_mode": {
    "name": "ipython",
    "version": 3
   },
   "file_extension": ".py",
   "mimetype": "text/x-python",
   "name": "python",
   "nbconvert_exporter": "python",
   "pygments_lexer": "ipython3",
   "version": "3.10.10"
  },
  "orig_nbformat": 4,
  "vscode": {
   "interpreter": {
    "hash": "ca6cb3cecea1db0abf010095da60233a3a7819125650c47cfde9ad819895907e"
   }
  }
 },
 "nbformat": 4,
 "nbformat_minor": 2
}
